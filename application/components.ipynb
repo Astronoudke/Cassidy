{
 "cells": [
  {
   "cell_type": "code",
   "execution_count": null,
   "metadata": {
    "collapsed": true
   },
   "outputs": [],
   "source": [
    "# Necessary imports\n",
    "\n",
    "from A_DataCollectors.ScientificLiteratureCollector.scientific_literature_collector import ScientificLiteratureCollector\n",
    "from A_DataCollectors.ForumCollector.forum_collector import ForumCollector\n",
    "from A_DataCollectors.ForumCollector.forum_application import ForumApplication\n",
    "from B_DataProcessors.text_preprocessor import TextPreprocessor\n",
    "from C_Analyzers.Summarization.extractive_summarizer import ExtractiveSummarizer\n",
    "from C_Analyzers.Summarization.functions import RelevanceScores\n",
    "from C_Analyzers.Relation_Extraction.relation_extractor import RelationExtractor\n",
    "from C_Analyzers.Sentiment_Analysis.sentiment_analyzer import SentimentAnalyzer"
   ]
  },
  {
   "cell_type": "code",
   "execution_count": null,
   "outputs": [],
   "source": [
    "# Collect data from scientific article\n",
    "path = \"https://arxiv.org/pdf/1903.10318.pdf\"\n",
    "\n",
    "collector = ScientificLiteratureCollector(path)\n",
    "text = collector.collect('pdf', 'url' if path.startswith('http') else 'local', 'scipy')\n",
    "\n",
    "print(text)"
   ],
   "metadata": {
    "collapsed": false
   }
  },
  {
   "cell_type": "code",
   "execution_count": null,
   "outputs": [],
   "source": [
    "# Preprocess text from the article\n",
    "\n",
    "preprocessor = TextPreprocessor(steps=['clean_data', 'split_sentences'])\n",
    "preprocessed_text = preprocessor.preprocess_grobid(text)\n",
    "\n",
    "print(preprocessed_text)"
   ],
   "metadata": {
    "collapsed": false
   }
  },
  {
   "cell_type": "code",
   "execution_count": null,
   "outputs": [],
   "source": [
    "# Analyze text from the article\n",
    "\n",
    "# Consolidate all sentences in one list\n",
    "all_sentences = []\n",
    "for header, sentences in preprocessed_text.items():\n",
    "    all_sentences.extend(sentences)\n",
    "\n",
    "# Summarize data\n",
    "es = ExtractiveSummarizer(all_sentences)\n",
    "summary = es.summarize('position_textrank', top_n=15, order_by_rank=False)\n",
    "\n",
    "# filter out sentences less than four words long\n",
    "summary = [sentence for sentence in summary.split('. ') if len(sentence.split()) >= 4]\n",
    "\n",
    "print(summary)"
   ],
   "metadata": {
    "collapsed": false
   }
  },
  {
   "cell_type": "code",
   "execution_count": null,
   "outputs": [],
   "source": [
    "# Collect data from forum discussion\n",
    "\n",
    "discussion_link = \"https://forums.space.com/threads/constellations-space-travel.29641/\"\n",
    "message_class = \"message-content js-messageContent\"\n",
    "message_text_class = \"bbWrapper\"\n",
    "message_author_class = \"username\"\n",
    "pagination_class = \"pageNav-main\"\n",
    "\n",
    "collector = ForumCollector(name='name', base_url='base', description='desc', category='cat')\n",
    "app = ForumApplication(collector)\n",
    "collected_messages = app.collect_messages_by_discussion_link(\n",
    "            discussion_link=discussion_link,\n",
    "            message_class=message_class,\n",
    "            full_message_class=False,\n",
    "            pagination_class=pagination_class,\n",
    "            message_text_class=message_text_class,\n",
    "            message_author_class=message_author_class,\n",
    "            store_in_dict=False,  # Here's the second change\n",
    "            return_messages=True\n",
    "        )\n",
    "\n",
    "print(collected_messages)"
   ],
   "metadata": {
    "collapsed": false
   }
  },
  {
   "cell_type": "code",
   "execution_count": null,
   "outputs": [],
   "source": [
    "# Preprocess text from the forum discussion\n",
    "\n",
    "summarization_steps = ['clean_data', 'split_sentences']\n",
    "preprocessor = TextPreprocessor(summarization_steps)\n",
    "preprocessed_text = preprocessor.preprocess_forum_discussion(collected_messages)\n",
    "\n",
    "print(preprocessed_text)"
   ],
   "metadata": {
    "collapsed": false
   }
  },
  {
   "cell_type": "code",
   "execution_count": null,
   "outputs": [],
   "source": [
    "# Analyze text from the forum discussion\n",
    "from spacy.lang.en.stop_words import STOP_WORDS\n",
    "\n",
    "# Summarize data\n",
    "new_dict = {}\n",
    "for header, messages in preprocessed_text.items():\n",
    "    es = ExtractiveSummarizer(messages)\n",
    "    summary = es.summarize('relevance_scores', top_n=5, order_by_rank=False)\n",
    "\n",
    "    # filter out messages less than four words long\n",
    "    summary = '. '.join(message for message in summary if len(message.split()) >= 3)\n",
    "\n",
    "    new_dict[header] = summary\n",
    "\n",
    "relevance_scores = RelevanceScores()\n",
    "top_messages = relevance_scores.select_top_messages(new_dict, 3, STOP_WORDS)\n",
    "result = top_messages  # Replace the result with the top messages\n",
    "\n",
    "print(result)"
   ],
   "metadata": {
    "collapsed": false
   }
  }
 ],
 "metadata": {
  "kernelspec": {
   "display_name": "Python 3",
   "language": "python",
   "name": "python3"
  },
  "language_info": {
   "codemirror_mode": {
    "name": "ipython",
    "version": 2
   },
   "file_extension": ".py",
   "mimetype": "text/x-python",
   "name": "python",
   "nbconvert_exporter": "python",
   "pygments_lexer": "ipython2",
   "version": "2.7.6"
  }
 },
 "nbformat": 4,
 "nbformat_minor": 0
}
