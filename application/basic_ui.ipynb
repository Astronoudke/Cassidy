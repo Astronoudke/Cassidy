{
 "cells": [
  {
   "cell_type": "code",
   "execution_count": 20,
   "metadata": {
    "collapsed": true,
    "ExecuteTime": {
     "end_time": "2023-05-25T14:20:33.631871900Z",
     "start_time": "2023-05-25T14:20:33.626537200Z"
    }
   },
   "outputs": [],
   "source": []
  },
  {
   "cell_type": "code",
   "execution_count": 14,
   "outputs": [],
   "source": [],
   "metadata": {
    "collapsed": false,
    "ExecuteTime": {
     "end_time": "2023-05-25T13:20:37.439062Z",
     "start_time": "2023-05-25T13:20:37.434161500Z"
    }
   }
  },
  {
   "cell_type": "code",
   "execution_count": null,
   "outputs": [],
   "source": [
    "from F_UserInterface.ApplicationManager.application_manager import ScientificLiteratureAnalyzer, ForumAnalyzer\n",
    "\n",
    "\n",
    "discussion_link = \"https://forums.space.com/threads/constellations-space-travel.29641/\"\n",
    "message_class = \"message-content js-messageContent\"\n",
    "full_message_class = False\n",
    "pagination_class = \"pageNav-main\"\n",
    "message_text_class = \"bbWrapper\"\n",
    "message_author_class = \"username\"\n",
    "\n",
    "forum_analyzer = ForumAnalyzer(discussion_link, message_class, full_message_class, pagination_class, message_text_class, message_author_class)\n",
    "result = forum_analyzer.analyze('relation_extractor', preprocessing_steps=['clean_data', 'case_folding', \"split_sentences\", \"tokenize_sentences\", \"pos_tagging\", \"filter_pos_tagged\"])\n",
    "\n",
    "print(result)"
   ],
   "metadata": {
    "collapsed": false
   }
  },
  {
   "cell_type": "code",
   "execution_count": null,
   "outputs": [],
   "source": [
    "url = \"https://arxiv.org/pdf/2305.14413.pdf\"\n",
    "\n",
    "summarizer = ScientificLiteratureAnalyzer(url)\n",
    "result = summarizer.summarize(preprocessing_steps=['clean_data', 'split_sentences'])\n",
    "\n",
    "for key, value in result.items():\n",
    "    print(f\"\\nSection: {key}\\n{'=' * len('Section: ' + key)}\\nSummary: {value}\\n\")"
   ],
   "metadata": {
    "collapsed": false
   }
  },
  {
   "cell_type": "code",
   "execution_count": null,
   "outputs": [],
   "source": [
    "path = \"C:/Users/noudy/Downloads/s10791-016-9286-2.pdf\"\n",
    "\n",
    "relation = ScientificLiteratureAnalyzer(path)\n",
    "result = relation.sentiment_analysis(preprocessing_steps=['clean_data'])\n",
    "\n",
    "print(result)"
   ],
   "metadata": {
    "collapsed": false
   }
  },
  {
   "cell_type": "code",
   "execution_count": null,
   "outputs": [],
   "source": [
    "# Insert your document path here (either URL or direct path)\n",
    "path = \"C:\\\\Users\\\\noudy\\\\Downloads\\\\1-s2.0-S0749596X09001247-main.pdf\"\n",
    "\n",
    "summarizer = ScientificLiteratureAnalyzer(path)\n",
    "result = summarizer.summarize()\n",
    "\n",
    "for key, value in result.items():\n",
    "    print(f\"\\nSection: {key}\\n{'=' * len('Section: ' + key)}\\nSummary: {value}\\n\")"
   ],
   "metadata": {
    "collapsed": false
   }
  },
  {
   "cell_type": "code",
   "execution_count": null,
   "outputs": [],
   "source": [
    "# Insert either a path or link to a scientific article in PDF-format.\n",
    "path = \"C:\\\\Users\\\\noudy\\\\Downloads\\\\1-s2.0-S0749596X09001247-main.pdf\"\n",
    "\n",
    "# Insert the sequence of preprocessing steps you want to perform on the text.\n",
    "preprocessing = ['clean_data', 'split_sentences']\n",
    "\n",
    "# Insert the functionality\n",
    "functionality = 'summarize'\n",
    "\n",
    "summarizer = ScientificLiteratureAnalyzer(path)\n",
    "result = summarizer.analyze(functionality, preprocessing)\n",
    "\n",
    "for key, value in result.items():\n",
    "    print(f\"\\nSection: {key}\\n{'=' * len('Section: ' + key)}\\nSummary: {value}\\n\")\n"
   ],
   "metadata": {
    "collapsed": false
   }
  },
  {
   "cell_type": "code",
   "execution_count": null,
   "outputs": [],
   "source": [],
   "metadata": {
    "collapsed": false
   }
  }
 ],
 "metadata": {
  "kernelspec": {
   "display_name": "Python 3",
   "language": "python",
   "name": "python3"
  },
  "language_info": {
   "codemirror_mode": {
    "name": "ipython",
    "version": 2
   },
   "file_extension": ".py",
   "mimetype": "text/x-python",
   "name": "python",
   "nbconvert_exporter": "python",
   "pygments_lexer": "ipython2",
   "version": "2.7.6"
  }
 },
 "nbformat": 4,
 "nbformat_minor": 0
}
